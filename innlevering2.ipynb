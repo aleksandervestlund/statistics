{
 "cells": [
  {
   "cell_type": "markdown",
   "id": "db4f51c2-0e88-4652-8e88-7ee58260ad20",
   "metadata": {},
   "source": [
    "# Innlevering 2, Oppgave 1-6\n",
    "\n",
    "## Oppgave 1 \\*\n"
   ]
  },
  {
   "cell_type": "markdown",
   "id": "e8cf136d-89a3-42c3-b3fd-812809527f46",
   "metadata": {},
   "source": [
    "La $X$ være en diskret fordelt stokastisk variabel med punktsannsynlighet $f(x)=P(X=x)$ som angitt i følgende tabell.\n",
    "\n",
    "| $x$ |     | $f(x)$ |\n",
    "| :-: | --- | :----: |\n",
    "| $0$ |     | $0.05$ |\n",
    "| $1$ |     | $0.10$ |\n",
    "| $2$ |     | $0.25$ |\n",
    "| $3$ |     | $0.40$ |\n",
    "| $4$ |     | $0.15$ |\n",
    "| $5$ |     | $0.05$ |\n",
    "\n",
    "- Finn $P(X \\leq 2)$\n",
    "\n",
    "Python-koden under definerer en funksjon <em>simX</em> som genererer $n$ realisasjoner av $X$. Denne funksjonen kan du benytte til å besvare neste spørsmål. <em>Merk: Studer koden slik at du senere selv kan skrive pythonfunksjoner.</em>\n"
   ]
  },
  {
   "cell_type": "code",
   "execution_count": 130,
   "id": "00f1e3de",
   "metadata": {},
   "outputs": [],
   "source": [
    "# Importer nødvendige biblioteker, denne cellen må kjøres før annen kode.\n",
    "import numpy as np\n",
    "import matplotlib.pyplot as plt"
   ]
  },
  {
   "cell_type": "code",
   "execution_count": 131,
   "id": "9fa84347-b3b2-426c-aafd-238550981c7f",
   "metadata": {},
   "outputs": [],
   "source": [
    "# UTLEVERT KODE (ingenting her skal endres)\n",
    "# punktsannsynlighet\n",
    "f_x = np.array([0.05, 0.10, 0.25, 0.40, 0.15, 0.05])\n",
    "\n",
    "# kumulativ fordelingsfunksjon\n",
    "F_x = np.cumsum(f_x)\n",
    "\n",
    "\n",
    "def simX(n: int) -> np.ndarray:\n",
    "    # verdimengde\n",
    "    x = np.arange(6)\n",
    "    # for lagring av realisasjoner\n",
    "    x_sim = np.zeros(n)\n",
    "    for i in range(n):  # vi simulerer hver og en x for seg\n",
    "        u = np.random.uniform()  # en realisasjon fra U(0,1)\n",
    "        if u < F_x[0]:\n",
    "            # hvis u er mindre enn den laveste verdien i F_x vil vi at\n",
    "            # realisasjonen skal være 0\n",
    "            x_sim[i] = x[0]\n",
    "        elif u <= F_x[1]:\n",
    "            # hvis u er mindre enn den nest laveste verdien (men større\n",
    "            # enn laveste) vil vi at x skal bli 1\n",
    "            x_sim[i] = x[1]\n",
    "        elif u <= F_x[2]:\n",
    "            x_sim[i] = x[2]\n",
    "        elif u <= F_x[3]:\n",
    "            x_sim[i] = x[3]\n",
    "        elif u <= F_x[4]:\n",
    "            x_sim[i] = x[4]\n",
    "        elif u > F_x[4]:\n",
    "            x_sim[i] = x[5]\n",
    "    return x_sim"
   ]
  },
  {
   "cell_type": "markdown",
   "id": "b3df12bd-27d5-4e36-8547-9232ece0db95",
   "metadata": {},
   "source": [
    "- Skriv python-kode som benytter stokastisk simulering, og spesielt <em>simX</em>-funksjonen definert over,\n",
    "  til å finne tilnærmet verdi for $P(X\\leq 2)$. Benytt for eksempel $n=1000$ og kjør gjerne\n",
    "  koden din flere ganger slik at du får en følelse av\n",
    "  nøyaktigheten av tilnærmelsene. Sammenlign verdiene du finner her med den\n",
    "  eksakte verdiene du fant over (og i Skriftlig innlevering 1).\n"
   ]
  },
  {
   "cell_type": "code",
   "execution_count": 132,
   "id": "5ef64416-f6e7-484e-a2c0-d267b49c429c",
   "metadata": {},
   "outputs": [
    {
     "name": "stdout",
     "output_type": "stream",
     "text": [
      "Approksimert P(X≤2): 0.3800\n",
      "Eksakt P(X≤2): 0.4\n"
     ]
    }
   ],
   "source": [
    "# Antall realisasjoner man skal bruke\n",
    "n = 1_000\n",
    "\n",
    "# Simuler realisasjoner av X ved å kalle på simX-funksjonen i cellen over\n",
    "simulerte_X = simX(n)\n",
    "\n",
    "# Approksimer sannsynligheten\n",
    "P_X_le_2 = sum(simulerte_X <= 2) / n\n",
    "\n",
    "# Skriv ut resultatet\n",
    "print(f\"Approksimert P(X≤2): {P_X_le_2:.4f}\")\n",
    "print(f\"Eksakt P(X≤2): {F_x[2]}\")"
   ]
  },
  {
   "cell_type": "markdown",
   "id": "2d1c939f",
   "metadata": {},
   "source": [
    "## Oppgave 2 \\*\n",
    "\n",
    "Vi skal igjen studere den diskrete sannsynlighetsfordelingen fra oppgave 1.\n",
    "\n",
    "- Regn ut forventningsverdien til $X$, $E[X]$\n",
    "- Regn ut variansen, $\\text{Var}(X)$, og standardavviket, $\\text{SD}[X]$.\n",
    "- Bruk <em>simX</em>-funksjonen definert over til å finne tilnærmede verdier for $E[X]$ og $\\text{SD}[X]$. Sammenlign tilnærmingene med de eksakte verdiene du regnet ut over. Kjør gjerne simuleringen (f.eks med $n = 1000$ flere ganger).\n"
   ]
  },
  {
   "cell_type": "code",
   "execution_count": 133,
   "id": "0c619bbe",
   "metadata": {},
   "outputs": [
    {
     "name": "stdout",
     "output_type": "stream",
     "text": [
      "Approksimert E(x): 2.6700\n",
      "Eksakt E(x): 2.6500\n",
      "Approksimert Var(x): 1.2931\n",
      "Eksakt Var(x): 1.3275\n",
      "Approksimert SD(x): 1.1371\n",
      "Eksakt SD(x): 1.1522\n"
     ]
    }
   ],
   "source": [
    "E_x = float(np.mean(simulerte_X))\n",
    "E_x_exact = sum(x * f_x for x, f_x in enumerate(f_x))\n",
    "var_x = sum(elem**2 for elem in simulerte_X) / n - E_x**2\n",
    "var_x_exact = sum(x**2 * f_x for x, f_x in enumerate(f_x)) - E_x_exact**2\n",
    "\n",
    "print(f\"Approksimert E(x): {E_x:.4f}\")\n",
    "print(f\"Eksakt E(x): {E_x_exact:.4f}\")\n",
    "print(f\"Approksimert Var(x): {var_x:.4f}\")\n",
    "print(f\"Eksakt Var(x): {var_x_exact:.4f}\")\n",
    "print(f\"Approksimert SD(x): {np.sqrt(var_x):.4f}\")\n",
    "print(f\"Eksakt SD(x): {np.sqrt(var_x_exact):.4f}\")"
   ]
  },
  {
   "cell_type": "markdown",
   "id": "a086d05b-867e-4f8b-bd74-fe6f29c00a91",
   "metadata": {},
   "source": [
    "## Oppgave 3 \\*\n",
    "\n",
    "La $X$ være en stokastisk variabel som beskriver hvor lang tid en komponent har fungert i det den svikter.\n",
    "Vi kaller da $X$ for <em>levetiden</em> for komponenten.\n",
    "\n",
    "Levetiden $X$ (målt i antall år) til en bestemt type mekaniske komponenter har vist seg å\n",
    "følge en fordeling med kumulativ fordelingsfunksjon gitt ved\n",
    "\\begin{align*}\n",
    "F_X(x) = 1 - \\exp\\left\\{ -\\frac{x^2}{\\alpha}\\right\\}; x\\geq 0,\n",
    "\\end{align*}\n",
    "der $\\alpha$ er en parameter som beskriver kvaliteten til komponentene.\n",
    "\n",
    "### Deloppgave a)\n",
    "\n",
    "- Finn sannsynlighetstettheten til $X$, $f_X(x)$. Eventuelt hent denne fra din besvarelse av\n",
    "  Skriftlig innlevering 1.\n",
    "\n",
    "### Deloppgave b)\n",
    "\n",
    "La $U\\sim \\mbox{Unif}[0,1]$.\n",
    "\n",
    "- Finn en formel for hvordan man fra $U$ kan definere $X$ slik at kumulativ fordeling for $X$\n",
    "  blir som angitt over.\n",
    "- Skriv en python-funksjon som genererer $n$ realisasjoner av $X$. La funksjonen ha to\n",
    "  input-parametre, antall realisasjoner $n$ og verdien til kvalitetsparameteren $\\alpha$.\n",
    "  Benytt funksjonen til å generere (for eksempel) $n=10\\ 000\\ 000$ realisasjoner av $X$ med\n",
    "  (for eksempel) $\\alpha=1$, og lag et sannsynlighetshistogram for de genererte verdiene. Spesifiser at histogrammet skal ha 100 intervaller, se kode under.\n",
    "  Plott også sannsynlighetstettheten $f_X(x)$ i samme plott som\n",
    "  sannsynlighetshistogrammet. Ser det ut til at du har generert\n",
    "  realisasjoner av $X$ på korrekt måte?\n"
   ]
  },
  {
   "cell_type": "code",
   "execution_count": 134,
   "id": "00f9dd8d-0e63-4bcf-b842-97a80dcc723f",
   "metadata": {},
   "outputs": [
    {
     "name": "stdout",
     "output_type": "stream",
     "text": [
      "0.9209725495916866\n"
     ]
    },
    {
     "data": {
      "image/png": "[encoded data removed]",
      "text/plain": [
       "<Figure size 640x480 with 1 Axes>"
      ]
     },
     "metadata": {},
     "output_type": "display_data"
    }
   ],
   "source": [
    "def generateX(n: int, alpha: float) -> np.ndarray:\n",
    "    u = np.random.uniform(size=n)  # array med n elementer.\n",
    "    return np.sqrt(-alpha * np.log(1 - u))\n",
    "\n",
    "\n",
    "def f_X(x: np.ndarray, alpha: float) -> np.ndarray:\n",
    "    return 2.0 * x * np.exp(-(x**2) / alpha) / alpha\n",
    "\n",
    "\n",
    "# Sett antall realisasjoner og verdien til alpha\n",
    "n = 10_000_000\n",
    "alpha = 1.08\n",
    "\n",
    "# simuler realisasjoner av X\n",
    "simulerte_X = generateX(n, alpha)\n",
    "print(np.mean(simulerte_X))\n",
    "\n",
    "# Lag sannsynlighetshistogram for de simulerte verdiene, vi spesifiserer\n",
    "# antall intervaller ved å sette \"bins=100\"\n",
    "plt.hist(\n",
    "    simulerte_X, density=True, bins=100\n",
    ")  # density=True gjør at vi får et sannsynlighetshistogram\n",
    "\n",
    "# Angi navn på aksene\n",
    "plt.xlabel(\"$x$ (År)\")\n",
    "plt.ylabel(\"$f_X(x)$\")\n",
    "\n",
    "# Regn ut og plott sannsynlighetstettheten til X på samme plott\n",
    "x = np.linspace(0, max(simulerte_X), 1_000)\n",
    "plt.plot(x, f_X(x, alpha))\n",
    "\n",
    "# Avslutt med å generere alle elementene du har plottet\n",
    "plt.show()"
   ]
  },
  {
   "cell_type": "markdown",
   "id": "3ca2df47-eefd-41a1-9d20-a27b1b8ea420",
   "metadata": {},
   "source": [
    "#### Her er deloppgave b) slutt.\n"
   ]
  },
  {
   "cell_type": "markdown",
   "id": "7ff64247-d100-43c0-9625-13c8744c2d8a",
   "metadata": {},
   "source": [
    "### Deloppgave c)\n",
    "\n",
    "Et instrument inneholder fem komponenter av denne typen, to av disse komponentene har kvalitetsparameter $\\alpha = 1$ og de andre tre komponentene har $\\alpha=1.2$. De fem komponentene svikter uavhengig av hverandre og instrumentet fungerer så lenge minst tre av de fem komponentene fungerer. La $Y$ betegne levetiden til instrumentet.\n",
    "\n",
    "- Skriv en python-funksjon som genererer $n$ realisasjoner av $Y$. Funksjonen skal ha en input-parameter, nemlig antall realisasjoner $n$. Benytt funksjonen til å genererere (for eksempel) $n=10\\ 000$ realisasjoner av $Y$, og lag et sannsynlighetsistogram for de genererte verdiene.\n",
    "- Benytt python-funksjonen til å finne tilnærmede verdier for $P(Y\\geq 1)$ og $P(Y\\geq 1|Y\\geq 0.75)$.\n"
   ]
  },
  {
   "cell_type": "code",
   "execution_count": 135,
   "id": "01b1e9af-482c-4cda-955b-7bc6c4dc5398",
   "metadata": {},
   "outputs": [
    {
     "name": "stdout",
     "output_type": "stream",
     "text": [
      "P(Y≥1): 0.4346\n",
      "P(Y≥1|Y≥0.75) = P(Y≥1)/P(Y≥0.75): 0.6944\n"
     ]
    },
    {
     "data": {
      "image/png": "[encoded data removed]",
      "text/plain": [
       "<Figure size 640x480 with 1 Axes>"
      ]
     },
     "metadata": {},
     "output_type": "display_data"
    }
   ],
   "source": [
    "# definer funksjonen og benytt denne som angitt i oppgaven\n",
    "def simY(n: int) -> np.ndarray:\n",
    "    alphas = [1.0, 1.0, 1.2, 1.2, 1.2]\n",
    "    lifetimes = sorted(\n",
    "        [generateX(n, alpha) for alpha in alphas], key=lambda x: np.mean(x)\n",
    "    )  # sortert på gjennomsnitt\n",
    "    return lifetimes[2]  # tredje lengste levetiden\n",
    "\n",
    "\n",
    "n = 10_000_000\n",
    "simulerte_Y = simY(n)\n",
    "\n",
    "# Sannsynligheter\n",
    "P_Y_ge_1 = sum(simulerte_Y >= 1) / n\n",
    "P_Y_ge_0_75 = sum(simulerte_Y >= 0.75) / n\n",
    "print(f\"P(Y≥1): {P_Y_ge_1:.4f}\")\n",
    "print(f\"P(Y≥1|Y≥0.75) = P(Y≥1)/P(Y≥0.75): {P_Y_ge_1 / P_Y_ge_0_75:.4f}\")\n",
    "\n",
    "plt.hist(simulerte_Y, density=True, bins=100)\n",
    "plt.xlabel(\"$y$ (År)\")\n",
    "plt.ylabel(\"$f_Y(y)$\")\n",
    "plt.show()"
   ]
  },
  {
   "cell_type": "markdown",
   "id": "d9486729-c75b-4424-9cff-1d8800588e95",
   "metadata": {},
   "source": [
    "## Oppgave 4 \\*\n",
    "\n",
    "Vi skal igjen studere levetidsfordelingen fra Oppgave 3.\n",
    "\n",
    "- Finn en formel for $E[X]$ (som funksjon av $\\alpha$). Du kan her uten bevis benytte at\n",
    "  $$\n",
    "  \\int_{-\\infty}^\\infty e^{-x^2}dx = \\sqrt{\\pi}.\n",
    "  $$\n",
    "  Du kan verifisere om resultatet virker rimelig ved å sammenlikne med histogrammet fra oppgave 3.\n",
    "- Benytt python-funksjonen du har implementert i oppgave 3 c til å finne tilnærmede verdier for $E[Y]$ og $\\mbox{SD}[Y]$.\n"
   ]
  },
  {
   "cell_type": "code",
   "execution_count": 136,
   "id": "95b7a709",
   "metadata": {},
   "outputs": [
    {
     "name": "stdout",
     "output_type": "stream",
     "text": [
      "Approksimert E(Y): 0.9709\n",
      "Eksakt E(Y): 0.9708\n"
     ]
    }
   ],
   "source": [
    "print(f\"Approksimert E(Y): {np.mean(simulerte_Y):.4f}\")\n",
    "print(f\"Eksakt E(Y): {np.sqrt(np.pi * 1.2) / 2:.4f}\")  # Valgte 1.2 for alpha"
   ]
  }
 ],
 "metadata": {
  "kernelspec": {
   "display_name": "Python 3 (ipykernel)",
   "language": "python",
   "name": "python3"
  },
  "language_info": {
   "codemirror_mode": {
    "name": "ipython",
    "version": 3
   },
   "file_extension": ".py",
   "mimetype": "text/x-python",
   "name": "python",
   "nbconvert_exporter": "python",
   "pygments_lexer": "ipython3",
   "version": "3.11.4"
  }
 },
 "nbformat": 4,
 "nbformat_minor": 5
}
