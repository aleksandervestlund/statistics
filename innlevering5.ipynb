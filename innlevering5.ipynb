{
 "cells": [
  {
   "cell_type": "markdown",
   "id": "2c97972e-5e36-433b-8dfa-53cb6f6e8985",
   "metadata": {},
   "source": [
    "# Innlevering 5\n"
   ]
  },
  {
   "cell_type": "code",
   "execution_count": 111,
   "id": "e8376b1a",
   "metadata": {},
   "outputs": [],
   "source": [
    "from random import sample\n",
    "\n",
    "import matplotlib.pyplot as plt\n",
    "import numpy as np\n",
    "import seaborn as sns\n",
    "from pandas import DataFrame\n",
    "from scipy import stats"
   ]
  },
  {
   "cell_type": "markdown",
   "id": "95d5b3b0",
   "metadata": {},
   "source": [
    "## Oppgave 3\n"
   ]
  },
  {
   "cell_type": "markdown",
   "id": "90b5f0bd",
   "metadata": {},
   "source": [
    "SAR (Synthetic Aperture Radar) er en målemetode som benyttes for å kartlegge jordoverflaten fra satelitt. Teknikken går kort fortalt ut på at man sender ut radarstråler fra satelitten og observerer hvor mye av denne strålingen som reflekteres tilbake. Hvor mye av radarstrålingen som reflekteres, avhenger av egenskapene til jordoverflaten på den aktuelle posisjonen og dermed kan man skille mellom ulike overflatetyper. En observasjon gjøres egentlig ved at man tar flere målinger (såkalte “looks”) og summerer disse. Ut fra fysiske lover for radarstråler er det kjent at en observasjon, $X$, vil være gammafordelt med parametre $\\alpha=a$ og $\\beta = r/a$, dvs. sannsynlighetstettheten er gitt ved\n",
    "\n",
    "\\begin{align*}\n",
    "f(x) = \\frac{a^a}{r^a\\Gamma(a)}x^{a-1}\\exp\\left\\{-\\frac{ax}{r}\\right\\}, \\,\\,x\\geq 0,\n",
    "\\end{align*}\n",
    "\n",
    "der $a$ er antall “looks” og refleksivitetsparameteren $r$ er en størrelse som beskriver refleksjonsegenskapene til jordoverflaten der observasjonen gjøres. Ut fra kjente formler for forventningsverdi og varians for gammafordelingen vet vi dermed også at tilhørende forventningsverdi og varians er gitt ved\n",
    "\n",
    "\\begin{align*}\n",
    "E[X] = r\\,\\,\\,\\,\\,\\mbox{og}\\,\\,\\,\\,\\,\\,\\mbox{Var}[X]=\\frac{r^2}{a}.\n",
    "\\end{align*}\n",
    "\n",
    "Vi skal nå anta at vi har $n$ observasjoner fra et homogent område (dvs. verdien på $r$ er den samme for alle de $n$ observasjonene). La $X_1, X_2,\\ldots, X_n$ være de $n$ observasjonene og anta at de er uavhengige. Fra disse observasjonene er vi interessert i å estimere $r$. Antall “looks”, $a=5$, antar vi kjent. Som estimator for $r$ skal vi benytte\n",
    "\n",
    "\\begin{align*}\n",
    "\\hat{r}=\\overline{X} = \\frac{1}{n}\\sum\\_{i=1}^n X_i.\n",
    "\\end{align*}\n"
   ]
  },
  {
   "cell_type": "markdown",
   "id": "f3fb680c",
   "metadata": {},
   "source": [
    "Vi fokuserer nå på et område hvor det er kjent at det for et år siden var en overflatetype som hadde refleksjonsparameter $r_0=12.5$. For å undersøke om overflaten har endret seg siden i fjor på en slik måte at refleksjonsparameteren har økt, gjøres det $n=20$ målinger med $a=5$ looks fra det aktuelle området. De $n=20$ observerte verdiene er som følger:\n",
    "\n",
    "\\begin{align*}\n",
    "&7.98,10.82,15.88,17.00,24.22,12.20,8.17,16.53,7.46,14.31,34.55,\\\\\n",
    "&19.46,20.21,13.58,10.98,4.42,24.92,30.29,23.45,23.36\n",
    "\\end{align*}\n",
    "\n",
    "Vi ønsker nå å benytte disse verdiene til å undersøke om det er grunnlag til å påstå at verdien til refleksjonsparameterem har økt siden i fjor.\n",
    "\n",
    "Videre i oppgaven skal vi forutsette at $n=20$ observasjoner er tilstrekkelig til at normalapproksimasjonen diskutert i deloppgave a) er god, slik at du kan benytte denne i dine videre beregninger.\n"
   ]
  },
  {
   "cell_type": "markdown",
   "id": "b46e558f",
   "metadata": {},
   "source": [
    "### Deloppgave b)\n",
    "\n",
    "For å få et første inntrykk at de $n=20$ observerte verdiene, bruk verdiene til å lage følgende plott i python\n",
    "\n",
    "- histogram\n",
    "- boksplott (for dette kan du bruke funksjonen boxplot i modulen matplotlib.pyplot)\n",
    "\n",
    "Ut fra hva du ser i plottene, hva tror du om verdien av refleksjonsparameteren i år i forhold til i fjor? Tror du det er grunnlag for å påstå at verdien har økt siden i fjor?\n"
   ]
  },
  {
   "cell_type": "code",
   "execution_count": 112,
   "id": "023471d2",
   "metadata": {},
   "outputs": [
    {
     "data": {
      "image/png": "[encoded data removed]",
      "text/plain": [
       "<Figure size 640x480 with 1 Axes>"
      ]
     },
     "metadata": {},
     "output_type": "display_data"
    }
   ],
   "source": [
    "values = [\n",
    "    7.98,\n",
    "    10.82,\n",
    "    15.88,\n",
    "    17.00,\n",
    "    24.22,\n",
    "    12.20,\n",
    "    8.17,\n",
    "    16.53,\n",
    "    7.46,\n",
    "    14.31,\n",
    "    34.55,\n",
    "    19.46,\n",
    "    20.21,\n",
    "    13.58,\n",
    "    10.98,\n",
    "    4.42,\n",
    "    24.92,\n",
    "    30.29,\n",
    "    23.45,\n",
    "    23.36,\n",
    "]\n",
    "plt.hist(values, bins=10, density=True)\n",
    "plt.show()"
   ]
  },
  {
   "cell_type": "code",
   "execution_count": 113,
   "id": "44800b04",
   "metadata": {},
   "outputs": [
    {
     "data": {
      "image/png": "[encoded data removed]",
      "text/plain": [
       "<Figure size 640x480 with 1 Axes>"
      ]
     },
     "metadata": {},
     "output_type": "display_data"
    }
   ],
   "source": [
    "sns.boxplot(values)\n",
    "plt.show()"
   ]
  },
  {
   "cell_type": "code",
   "execution_count": 114,
   "id": "5f92dc4a",
   "metadata": {},
   "outputs": [
    {
     "name": "stdout",
     "output_type": "stream",
     "text": [
      "Gjennomsnitt: 16.9895\n",
      "Ser at gjennomsnittet er større enn r_0, som er lik 12.5. Dermed kan dette bety at verdien for refleksjonsparameteren har økt.\n"
     ]
    }
   ],
   "source": [
    "print(f\"Gjennomsnitt: {np.mean(values)}\")\n",
    "print(\n",
    "    \"Ser at gjennomsnittet er større enn r_0, som er lik 12.5. Dermed kan \"\n",
    "    \"dette bety at verdien for refleksjonsparameteren har økt.\"\n",
    ")"
   ]
  },
  {
   "cell_type": "markdown",
   "id": "2e670abc",
   "metadata": {},
   "source": [
    "### Deloppgave e)\n",
    "\n",
    "Skriv en python-funksjon som først simulerer $n=20$ \"observasjoner\" fra gammafordelingen som gjelder når $H_0$ er sann, og deretter benytter disse observasjonene til å evaluere og returnere verdien til den tilhørende testobservatoren. <em>Merk: For å generere realisasjoner fra en gammafordeling kan du benytte funksjonen gamma i modulen numpy.random. Se mappen \"Fordelinger\" i JupyterHub for eksempel på bruk av funksjonen.</em>\n",
    "\n",
    "Benytt så denne python-funksjonen, for eksempel $m=100\\, 000$ ganger, til å estimere testens eksakte sannsynlighet for type I-feil. Finn også et $95\\%$-konfidensintervall for den eksakte sannsynligheten for type I-feil. Basert på resultatene du har fått her, hva tenker du om kvaliteten av approksimasjonen du gjorde da du i deloppgave c) regnet som om testobservatoren var standard normalfordelt under $H_0$?\n"
   ]
  },
  {
   "cell_type": "code",
   "execution_count": 115,
   "id": "2cfc0f2f",
   "metadata": {},
   "outputs": [
    {
     "name": "stdout",
     "output_type": "stream",
     "text": [
      "P(Type I-feil): 0.1040\n"
     ]
    }
   ],
   "source": [
    "def r_i(m: int) -> np.ndarray:\n",
    "    alpha = a\n",
    "    beta = r_0 / a\n",
    "    return np.random.gamma(alpha, beta, m)\n",
    "\n",
    "\n",
    "def r_hat(x: np.ndarray) -> np.floating:\n",
    "    return np.mean(x)\n",
    "\n",
    "\n",
    "r_0 = 12.5\n",
    "a = 5.0\n",
    "n = 20\n",
    "m = 100_000\n",
    "k = r_0 + stats.norm.ppf(0.9) * r_0 / np.sqrt(n * a)  # fra 3c\n",
    "\n",
    "observed_values = np.array([r_hat(r_i(n)) for _ in range(m)])\n",
    "alpha = np.mean(observed_values >= k)\n",
    "print(f\"P(Type I-feil): {alpha:.4f}\")"
   ]
  },
  {
   "cell_type": "code",
   "execution_count": 116,
   "id": "5ce6c74a",
   "metadata": {},
   "outputs": [
    {
     "name": "stdout",
     "output_type": "stream",
     "text": [
      "Intervall: [0.1021, 0.1059]\n",
      "Approksimasjonen er nærme den eksakte verdien, så det er en god tilnærming. Dette betyr at vi kan stole på at vi har en god tilnærming til P(Type I-feil).\n"
     ]
    }
   ],
   "source": [
    "# p^ = X/n\n",
    "# Var(p^) = Var(X/n) = 1/n^2 * Var(X) = 1/n^2 * n*p*(1-p) = p*(1-p)/n\n",
    "sigma = np.sqrt(alpha * (1 - alpha) / m)\n",
    "z_alpha = stats.norm.ppf(1 - 0.05 / 2)\n",
    "\n",
    "interval = [alpha - z_alpha * sigma, alpha + z_alpha * sigma]\n",
    "\n",
    "print(f\"Intervall: {[round(num, 4) for num in interval]}\")\n",
    "print(\n",
    "    \"Approksimasjonen er nærme den eksakte verdien, så det er en god \"\n",
    "    \"tilnærming. Dette betyr at vi kan stole på at vi har en god \"\n",
    "    \"tilnærming til P(Type I-feil).\"\n",
    ")"
   ]
  },
  {
   "cell_type": "markdown",
   "id": "ef1e3e0d",
   "metadata": {},
   "source": [
    "## Oppgave 4\n"
   ]
  },
  {
   "cell_type": "markdown",
   "id": "933be2b7",
   "metadata": {},
   "source": [
    "Anta at man har gjennomført en medisinsk studie for å vurdere om en ny medisin for en bestemt sykdom er bedre enn den tradisjonelle medisinen som har vært benyttet for denne sykdommen. Det var $n=15$ pasienter som deltok i studien. Av disse $n$ pasientene ble $m=7$ tilfeldig trukket ut og disse $m$ pasientene ble gitt den nye medisinen. De øvrige $n-m=8$ pasientene fikk den gamle medisinen.\n",
    "\n",
    "Effekten av behandlingen (medisinen) kan måles ved hjelp av en blodprøve. Vi skal i denne oppgaven anta at en lav blodprøveverdi er en indikasjon på at medisinen som er gitt har hatt en god effekt. Jo lavere blodprøveverdien er, jo bedre har effekten av medisinen vært.\n",
    "\n",
    "I denne oppgaven ønsker vi å bruke følgende observerte blodprøveverdier til å vurdere om det er grunnlag for å påstå at den nye medisinen er mer effektiv enn den gamle.\n",
    "\n",
    "| Tradisjonell medisin |     0.189 |     0.743 |     0.605 |     0.044 |     0.091 |     0.045 |     0.532 | 0.642 |\n",
    "| :------------------- | --------: | --------: | --------: | --------: | --------: | --------: | --------: | ----: |\n",
    "| **Ny medisin**       | **0.397** | **0.583** | **0.355** | **0.054** | **0.155** | **0.066** | **0.099** |       |\n",
    "\n",
    "Vi skal formulere problemet som en hypotesetest og som testobservator skal vi benytte gjennomsnittet av observerte blodprøveverdier for pasienter som fikk ny medisin minus gjennomsnittet av observerte blodprøveverdier for pasienter som fikk den tradisjonelle medisinen.\n"
   ]
  },
  {
   "cell_type": "markdown",
   "id": "c266149e",
   "metadata": {},
   "source": [
    "### Deloppgave a)\n",
    "\n",
    "For å få et første inntrykk at de observerte verdiene, lag et boksplott for observerte blodprøveverdiene for pasientene som fikk tradisjonell medisin, og et boksplott for observerte blodprøveverdier for pasienter som fikk ny medisin. <em>Hint: Jobben blir gjort ved å kjøre koden under. Du trenger ikke endre på den gitte koden.</em>\n"
   ]
  },
  {
   "cell_type": "code",
   "execution_count": 117,
   "id": "d68f8b3a",
   "metadata": {},
   "outputs": [
    {
     "data": {
      "image/png": "[encoded data removed]",
      "text/plain": [
       "<Figure size 640x480 with 1 Axes>"
      ]
     },
     "metadata": {},
     "output_type": "display_data"
    }
   ],
   "source": [
    "x = [\n",
    "    0.189,\n",
    "    0.743,\n",
    "    0.605,\n",
    "    0.044,\n",
    "    0.091,\n",
    "    0.045,\n",
    "    0.532,\n",
    "    0.642,\n",
    "    0.397,\n",
    "    0.583,\n",
    "    0.355,\n",
    "    0.054,\n",
    "    0.155,\n",
    "    0.066,\n",
    "    0.099,\n",
    "]\n",
    "data = DataFrame(\n",
    "    {\n",
    "        \"verdi\": x,\n",
    "        \"medisin\": [\n",
    "            \"Trad\",\n",
    "            \"Trad\",\n",
    "            \"Trad\",\n",
    "            \"Trad\",\n",
    "            \"Trad\",\n",
    "            \"Trad\",\n",
    "            \"Trad\",\n",
    "            \"Trad\",\n",
    "            \"Ny\",\n",
    "            \"Ny\",\n",
    "            \"Ny\",\n",
    "            \"Ny\",\n",
    "            \"Ny\",\n",
    "            \"Ny\",\n",
    "            \"Ny\",\n",
    "        ],\n",
    "    }\n",
    ")\n",
    "\n",
    "sns.boxplot(x=\"medisin\", y=\"verdi\", data=data)\n",
    "plt.show()"
   ]
  },
  {
   "cell_type": "code",
   "execution_count": 118,
   "id": "68c90574",
   "metadata": {},
   "outputs": [
    {
     "name": "stdout",
     "output_type": "stream",
     "text": [
      "Basert på boksen ser det ut til at den nye medisinen er gir bedre effekt enn den tradisjonelle. Dette er siden gjennomsnittet er betraktelig lavere for den nye.\n"
     ]
    }
   ],
   "source": [
    "print(\n",
    "    \"Basert på boksen ser det ut til at den nye medisinen er gir bedre effekt \"\n",
    "    \"enn den tradisjonelle. Dette er siden gjennomsnittet er betraktelig \"\n",
    "    \"lavere for den nye.\"\n",
    ")"
   ]
  },
  {
   "cell_type": "markdown",
   "id": "35da4ac5",
   "metadata": {},
   "source": [
    "Ut fra hva du ser i disse to boksplottene, tenker du at det er grunnlag for å påstå at den nye medisinen gir bedre effekt enn den tradisjonelle? Gi argumenter for ditt svar.\n",
    "\n",
    "#### Deloppgave b)\n",
    "\n",
    "Formuler nullhypotese $H_0$ og alternativ hypotese $H_1$ for problemstillingen beskrevet i innledningen til oppgaven.\n",
    "\n",
    "Bestem hvilken beslutningsregel det er rimelig å bruke. <em>Merk: Du trenger ikke å finne kritisk verdi, bare bestemme om man skal forkaste $H_0$ når testobservatoren er stor nok, om man skal forkaste $H_0$ når testobservatoren er liten nok, eller om man bør ha et tosidig forkastningskriterium.</em>\n",
    "\n",
    "Skriv og kjør python-kode som bruker stokastiske simulering til å estimere p-verdien i en permutasjonstest når observasjonene er som gitt over. Benytt gjerne $m=10\\, 000$ simuleringer for å estimere p-verdien. <em>Hint: Koden under regner ut observert verdi av testobservatoren og <b>en</b> simulert verdi av denne. Du er nødt til å modifisere denne koden slik at den gjør det som det spørres om.</em>\n"
   ]
  },
  {
   "cell_type": "code",
   "execution_count": 119,
   "id": "88c54f7c",
   "metadata": {},
   "outputs": [
    {
     "name": "stdout",
     "output_type": "stream",
     "text": [
      "H_0: μ_n - μ_t = 0\n",
      "H_1: μ_n - μ_t < 0\n",
      "Ensidig hypotesetest, der H_0 forkastes hvis μ_n - μ_t er lav nok.\n"
     ]
    }
   ],
   "source": [
    "print(\"H_0: μ_n - μ_t = 0\")\n",
    "print(\"H_1: μ_n - μ_t < 0\")\n",
    "print(\"Ensidig hypotesetest, der H_0 forkastes hvis μ_n - μ_t er lav nok.\")"
   ]
  },
  {
   "cell_type": "code",
   "execution_count": 120,
   "id": "83377c76",
   "metadata": {},
   "outputs": [
    {
     "name": "stdout",
     "output_type": "stream",
     "text": [
      "Observert verdi: -0.1172\n",
      "p-verdi: 0.1924\n"
     ]
    }
   ],
   "source": [
    "def test_statistic(x: list[float], n_trad: int) -> np.floating:\n",
    "    mean_trad = np.mean(x[:n_trad])\n",
    "    mean_new = np.mean(x[n_trad:])\n",
    "    return mean_new - mean_trad\n",
    "\n",
    "\n",
    "n = len(x)\n",
    "n_trad = 8\n",
    "m = 10_000\n",
    "\n",
    "statistic_observed = test_statistic(x, n_trad)\n",
    "print(f\"Observert verdi: {statistic_observed:.4f}\")\n",
    "\n",
    "statistic_simulated = [test_statistic(sample(x, n), n_trad) for _ in range(m)]\n",
    "p_hat = (1 + sum(statistic_simulated <= statistic_observed)) / (m + 1)\n",
    "print(f\"p-verdi: {p_hat:.4f}\")"
   ]
  }
 ],
 "metadata": {
  "kernelspec": {
   "display_name": "Python 3 (ipykernel)",
   "language": "python",
   "name": "python3"
  },
  "language_info": {
   "codemirror_mode": {
    "name": "ipython",
    "version": 3
   },
   "file_extension": ".py",
   "mimetype": "text/x-python",
   "name": "python",
   "nbconvert_exporter": "python",
   "pygments_lexer": "ipython3",
   "version": "3.11.6"
  }
 },
 "nbformat": 4,
 "nbformat_minor": 5
}
