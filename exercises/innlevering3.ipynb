{
 "cells": [
  {
   "cell_type": "markdown",
   "id": "bbc752a0-3f69-4c23-a817-284bcf2574d4",
   "metadata": {},
   "source": [
    "# Skriftlig innlevering 3"
   ]
  },
  {
   "cell_type": "markdown",
   "id": "c6f923c9-30de-4915-ad45-3f82acdfa9df",
   "metadata": {},
   "source": [
    "## Oppgave 4 *\n",
    "La $X$ være normalfordelt med forventningsverdi $\\mu$ og varians lik $\\sigma^2$, \n",
    "og la $Y=aX+b$ for to konstanter $a$ og $b$."
   ]
  },
  {
   "cell_type": "markdown",
   "id": "22383fa5-1c79-41d4-abfd-71a1620ef9dd",
   "metadata": {},
   "source": [
    "### Deloppgave a)\n",
    "Finn $E[Y]$ og $\\mbox{Var}[Y]$.\n",
    "\n",
    "Lag en pythonfunksjon som simulerer $n$ realisasjoner av $Y$ ved først å simulere $n$ realisasjoner av $X$ ved hjelp av pythonfunksjonen <em>numpy.random.normal</em>, og deretter regner ut tilsvarende verdier av $Y$. Funksjonen din skal ha fem input-parametre, $n$, $\\mu$, $\\sigma$, $a$ og $b$. \n",
    "\n",
    "For $\\mu=1$, $\\sigma=2$, $a=2$ og $b=0.5$, benytt pythonfunksjonen din til å generere $n=100\\ 000$ realisasjoner av $Y$. Lag et sannsynlighetshistogram av disse $n$ verdiene og spesifiser at sannsynlighetshistogrammet skal ha $100$ intervaller (se eventuelt kode fra skriftlig innlevering 2)."
   ]
  },
  {
   "cell_type": "markdown",
   "id": "01d7365f-1082-4ddd-b5ae-80e9e54ac435",
   "metadata": {},
   "source": [
    "Plott så sannsynlighetstettheten til en normalfordeling med forventningsverdi lik $E[Y]$ og varians lik $\\mbox{Var}[Y]$ i samme plott som histogrammet. Observer (dersom du har gjort ting rett) at sannsynlighetstettheten sammenfaller meget godt med sannsynlighetshistogrammet, og konkluder dermed med at det kan se ut som om $Y$ er normalfordelt.\n",
    "\n",
    "Gjenta gjerne denne simuleringsprosedyren også for noen andre verdier av $\\mu$, $\\sigma$, $a$ og $b$ og observer at sannsynlighetshistogrammet også da sammenfaller med tilhørende sannsynlighetstetthet."
   ]
  },
  {
   "cell_type": "code",
   "execution_count": null,
   "id": "728218f5",
   "metadata": {},
   "outputs": [],
   "source": [
    "# Her kan du skrive phytonkoden din\n"
   ]
  },
  {
   "cell_type": "markdown",
   "id": "64ec49c6",
   "metadata": {},
   "source": [
    "## Oppgave 5\n",
    "I denne oppgaven skal vi benytte momentgenerende funksjoner til å se på et spesialtilfelle av sentralgrenseteoremet."
   ]
  },
  {
   "cell_type": "markdown",
   "id": "f51089a6",
   "metadata": {},
   "source": [
    "Anta at vi har uavhengige og identisk fordelte stokastiske variabler $X_1,X_2,\\ldots,X_n$, det $X_i\\in\\{-1,1\\}$ og\n",
    "\n",
    "\\begin{align*}\n",
    "P(X_i=-1)=\\frac{1}{2} \\ \\ \\mbox{og}\\ \\  P(X_i=1)=\\frac{1}{2}.\n",
    "\\end{align*}\n",
    "\n",
    "Som vanlig lar vi \n",
    "\\begin{align*}\n",
    "\\overline{X} = \\frac{1}{n}\\sum_{i=1}^n X_i\n",
    "\\end{align*}\n",
    "være gjennomsnittet av $X_i$'ene. "
   ]
  },
  {
   "cell_type": "markdown",
   "id": "dd0fdcec",
   "metadata": {},
   "source": [
    "### Deloppgave c)\n",
    "For å undersøke om det ser ut til å stemme at $M_U(t)$ konvergerer mot $M_Z(t)$ når \n",
    "$n\\rightarrow\\infty$, lag et plott av begge funksjonene $M_U(t)$ og $M_Z(t)$ (for eksempel) i intervallet $t\\in[0,1]$. Lag plottet for ulike verdier av $n$, for eksempel for $n=4$, $n=10$ og $n=100$. Ser det ut til at sentralgrenseteoremet stemmer i dette tilfellet?"
   ]
  },
  {
   "cell_type": "code",
   "execution_count": null,
   "id": "c821ffd3",
   "metadata": {},
   "outputs": [],
   "source": [
    "# Her kan du skrive koden for å plotte de to funksjonene.\n"
   ]
  }
 ],
 "metadata": {
  "kernelspec": {
   "display_name": "Python 3 (ipykernel)",
   "language": "python",
   "name": "python3"
  },
  "language_info": {
   "codemirror_mode": {
    "name": "ipython",
    "version": 3
   },
   "file_extension": ".py",
   "mimetype": "text/x-python",
   "name": "python",
   "nbconvert_exporter": "python",
   "pygments_lexer": "ipython3",
   "version": "3.9.12"
  }
 },
 "nbformat": 4,
 "nbformat_minor": 5
}
